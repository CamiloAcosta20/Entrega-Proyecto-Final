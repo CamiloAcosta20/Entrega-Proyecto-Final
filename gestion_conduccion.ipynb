{
 "cells": [
  {
   "cell_type": "code",
   "execution_count": 7,
   "metadata": {},
   "outputs": [],
   "source": [
    "import urllib.request\n",
    "#import chromedriver_binary\n",
    "from bs4 import BeautifulSoup as bs\n",
    "from selenium import webdriver\n",
    "from selenium.webdriver.common.by import By\n",
    "from pathlib import Path\n",
    "import datetime\n",
    "import os\n",
    "import re\n",
    "from shutil import move\n",
    "from selenium.webdriver.support.ui import Select\n",
    "from selenium.webdriver.common.action_chains import ActionChains\n",
    "from selenium.webdriver.common.keys import Keys\n",
    "from selenium.webdriver.support.ui import WebDriverWait\n",
    "from selenium.webdriver.support import expected_conditions as EC\n",
    "import time\n",
    "from datetime import date, timedelta\n",
    "import pandas as pd\n",
    "from unidecode import unidecode"
   ]
  },
  {
   "cell_type": "code",
   "execution_count": 8,
   "metadata": {},
   "outputs": [],
   "source": [
    "options = webdriver.ChromeOptions()\n",
    "# options.add_argument(\"--headless\")\n",
    "# options.add_argument(\"--disable-gpu\")\n",
    "# options.add_argument(\"window-size=1024,768\")\n",
    "# options.add_argument(\"--no-sandbox\")"
   ]
  },
  {
   "cell_type": "code",
   "execution_count": 9,
   "metadata": {},
   "outputs": [],
   "source": [
    "# base = str(Path().resolve().parent)"
   ]
  },
  {
   "cell_type": "code",
   "execution_count": null,
   "metadata": {},
   "outputs": [],
   "source": [
    "# define URL\n",
    "v_url = 'https://gps.guardian.click/'\n",
    " \n",
    "# Initialize a new browser\n",
    "browser = webdriver.Chrome(executable_path=folder + \"G:\\.shortcut-targets-by-id\\10Adpt6FsXbivesz3vYviWvmtBQKcMDrc\\Logistica_transporte\\1. Analitica\\gestion conduccion\\chrome-win64\",options=options)\n",
    "browser.get(v_url)"
   ]
  },
  {
   "cell_type": "code",
   "execution_count": 11,
   "metadata": {},
   "outputs": [
    {
     "ename": "NameError",
     "evalue": "name 'browser' is not defined",
     "output_type": "error",
     "traceback": [
      "\u001b[1;31m---------------------------------------------------------------------------\u001b[0m",
      "\u001b[1;31mNameError\u001b[0m                                 Traceback (most recent call last)",
      "Cell \u001b[1;32mIn[11], line 2\u001b[0m\n\u001b[0;32m      1\u001b[0m \u001b[38;5;66;03m# To catch <input type=\"text\" name=\"passwd\" />\u001b[39;00m\n\u001b[1;32m----> 2\u001b[0m user_name \u001b[38;5;241m=\u001b[39m \u001b[43mbrowser\u001b[49m\u001b[38;5;241m.\u001b[39mfind_element(By\u001b[38;5;241m.\u001b[39mXPATH, \u001b[38;5;124m'\u001b[39m\u001b[38;5;124m//*[@id=\u001b[39m\u001b[38;5;124m\"\u001b[39m\u001b[38;5;124mmi-login-user\u001b[39m\u001b[38;5;124m\"\u001b[39m\u001b[38;5;124m]\u001b[39m\u001b[38;5;124m'\u001b[39m)\n\u001b[0;32m      3\u001b[0m password \u001b[38;5;241m=\u001b[39m browser\u001b[38;5;241m.\u001b[39mfind_element(By\u001b[38;5;241m.\u001b[39mXPATH, \u001b[38;5;124m'\u001b[39m\u001b[38;5;124m//*[@id=\u001b[39m\u001b[38;5;124m\"\u001b[39m\u001b[38;5;124mmi-login-pass\u001b[39m\u001b[38;5;124m\"\u001b[39m\u001b[38;5;124m]\u001b[39m\u001b[38;5;124m'\u001b[39m)\n\u001b[0;32m      5\u001b[0m password\u001b[38;5;241m.\u001b[39msend_keys(\u001b[38;5;124m\"\u001b[39m\u001b[38;5;124mEnero2022\u001b[39m\u001b[38;5;124m\"\u001b[39m)\n",
      "\u001b[1;31mNameError\u001b[0m: name 'browser' is not defined"
     ]
    }
   ],
   "source": [
    "\n",
    "\n",
    "# To catch <input type=\"text\" name=\"passwd\" />\n",
    "user_name = browser.find_element(By.XPATH, '//*[@id=\"mi-login-user\"]')\n",
    "password = browser.find_element(By.XPATH, '//*[@id=\"mi-login-pass\"]')\n",
    "\n",
    "password.send_keys(\"Enero2022\")\n",
    "user_name.send_keys(\"aoperaciones@comercialnutresa.com.co\")\n",
    "\n",
    "browser.find_element(By.XPATH, '//*[@id=\"login_1-module\"]/div/div[1]/div[3]/div[1]/div[2]/div/button/span[1]/span').click()\n",
    "time.sleep(10)"
   ]
  },
  {
   "cell_type": "code",
   "execution_count": 12,
   "metadata": {},
   "outputs": [
    {
     "ename": "NameError",
     "evalue": "name 'browser' is not defined",
     "output_type": "error",
     "traceback": [
      "\u001b[1;31m---------------------------------------------------------------------------\u001b[0m",
      "\u001b[1;31mNameError\u001b[0m                                 Traceback (most recent call last)",
      "Cell \u001b[1;32mIn[12], line 6\u001b[0m\n\u001b[0;32m      4\u001b[0m     \u001b[38;5;28;01mpass\u001b[39;00m\n\u001b[0;32m      5\u001b[0m time\u001b[38;5;241m.\u001b[39msleep(\u001b[38;5;241m10\u001b[39m)\n\u001b[1;32m----> 6\u001b[0m \u001b[43mbrowser\u001b[49m\u001b[38;5;241m.\u001b[39mfind_element(By\u001b[38;5;241m.\u001b[39mXPATH, \u001b[38;5;124m'\u001b[39m\u001b[38;5;124m//*[@id=\u001b[39m\u001b[38;5;124m\"\u001b[39m\u001b[38;5;124mroot\u001b[39m\u001b[38;5;124m\"\u001b[39m\u001b[38;5;124m]/div/div/div[1]/div/div/div/div/div[1]/div/div[3]/div/div[3]/div/div[1]/div/div[3]/div/button/span[1]/span\u001b[39m\u001b[38;5;124m'\u001b[39m)\u001b[38;5;241m.\u001b[39mclick()\n\u001b[0;32m      7\u001b[0m time\u001b[38;5;241m.\u001b[39msleep(\u001b[38;5;241m5\u001b[39m)\n\u001b[0;32m      8\u001b[0m browser\u001b[38;5;241m.\u001b[39mfind_element(By\u001b[38;5;241m.\u001b[39mXPATH, \u001b[38;5;124m'\u001b[39m\u001b[38;5;124m/html/body/div[3]/div/ul/li[3]\u001b[39m\u001b[38;5;124m'\u001b[39m)\u001b[38;5;241m.\u001b[39mclick()\n",
      "\u001b[1;31mNameError\u001b[0m: name 'browser' is not defined"
     ]
    }
   ],
   "source": [
    "try:\n",
    "    browser.find_element(By.XPATH, '/html/body/div[1]/div/div/div[2]/div/div/div[2]/div/div[2]/div/div[2]/div[2]/div/div[4]/div[2]/div/header/div/div[2]/div[4]/button/span[1]/span').click()\n",
    "except:\n",
    "    pass\n",
    "time.sleep(10)\n",
    "browser.find_element(By.XPATH, '//*[@id=\"root\"]/div/div/div[1]/div/div/div/div/div[1]/div/div[3]/div/div[3]/div/div[1]/div/div[3]/div/button/span[1]/span').click()\n",
    "time.sleep(5)\n",
    "browser.find_element(By.XPATH, '/html/body/div[3]/div/ul/li[3]').click()\n",
    "time.sleep(5)\n",
    "\n",
    "##fecha inicial\n",
    "\n",
    "browser.find_element(By.XPATH, '/html/body/div[1]/div/div/div[2]/div/div/div[2]/div/div[2]/div/div[2]/div[2]/div/div[2]/div/div/div[1]/div/div[1]/div/span').click()\n",
    "WebDriverWait(browser, 5).until(EC.element_to_be_clickable((By.XPATH, \"//*[@id='root']/div/div/div[2]/div/div/div[2]/div/div[2]/div/div[2]/div[2]/div/div[2]/div/div/div[2]/div/div/div/div[2]/div[3]/div[2]/div/div[2]/div/div[2]/div/span[2]/input\"))).click()\n",
    "\n",
    "dat_ini = browser.find_element(By.XPATH, '/html/body/div[3]/div/div/div/div/div[1]/div/input')\n",
    "dat_ini.send_keys(Keys.CONTROL, 'a')\n",
    "dat_ini.send_keys(Keys.BACKSPACE)\n",
    "dat_ini.send_keys(fecha_inicial)\n",
    "browser.find_element(By.XPATH, '/html/body/div[3]/div/div/div/div/div[2]/div[3]/span/a[2]').click()\n",
    "\n",
    "##fecha final\n",
    "\n",
    "time.sleep(5)\n",
    "browser.find_element(By.XPATH, '//*[@id=\"root\"]/div/div/div[2]/div/div/div[2]/div/div[2]/div/div[2]/div[2]/div/div[2]/div/div/div[2]/div/div/div/div[2]/div[3]/div[2]/div/div[4]/div/div[2]/div/span[2]/input').click()\n",
    "browser.find_element(By.XPATH, '/html/body/div[4]/div/div/div/div/div[1]/a/span').click()\n",
    "dat_fin = browser.find_element(By.XPATH, '/html/body/div[4]/div/div/div/div/div[1]/div/input')\n",
    "dat_fin.send_keys(fecha_final)\n",
    "browser.find_element(By.XPATH, '/html/body/div[4]/div/div/div/div/div[2]/div[3]/span/a[2]').click()\n",
    "\n",
    "browser.find_element(By.XPATH, '//*[@id=\"root\"]/div/div/div[2]/div/div/div[2]/div/div[2]/div/div[2]/div[2]/div/div[2]/div/div/div[2]/div/div/div/div[3]/div/div').click()"
   ]
  },
  {
   "cell_type": "code",
   "execution_count": null,
   "metadata": {},
   "outputs": [],
   "source": [
    "browser.find_element(By.XPATH, '//*[@id=\"root\"]/div/div/div[2]/div/div/div[2]/div/div[2]/div/div[2]/div[2]/div/div[2]/div/div/div[1]/div/div[3]/div/span').click()\n",
    "time.sleep(2)\n",
    "source = browser.find_element(By.XPATH, '//*[@id=\"root\"]/div/div/div[2]/div/div/div[2]/div/div[2]/div/div[2]/div[2]/div/div[2]/div/div/div[2]/div/div/div/div[2]/div/div[2]/div/div[2]/div/div/div[1]')\n",
    "action = ActionChains(browser)\n",
    "action.move_to_element(source).click().perform()\n",
    "action.send_keys(Keys.DOWN)\n",
    "action.send_keys(Keys.ENTER)\n",
    "action.perform()\n",
    "\n",
    "browser.find_element(By.XPATH, '//*[@id=\"root\"]/div/div/div[2]/div/div/div[2]/div/div[2]/div/div[2]/div[2]/div/div[2]/div/div/div[2]/div/div/div/div[3]/div').click()\n"
   ]
  },
  {
   "cell_type": "code",
   "execution_count": null,
   "metadata": {},
   "outputs": [],
   "source": [
    "##ponderación comercial nutresa\n",
    "source = browser.find_element(By.XPATH, '/html/body/div[1]/div/div/div[2]/div/div/div[2]/div/div[2]/div/div[2]/div[2]/div/div[4]/div[2]/div/div/div/div/div[1]/div/div/div/div[1]/div/div[1]/div[2]/div/div[2]/div/div/div[1]/div[1]')\n",
    "action = ActionChains(browser)\n",
    "action.move_to_element(source).click().perform()\n",
    "# action.send_keys(Keys.DOWN)\n",
    "action.send_keys(Keys.DOWN)\n",
    "action.send_keys(Keys.ENTER)\n",
    "action.perform()\n",
    "\n"
   ]
  },
  {
   "cell_type": "code",
   "execution_count": null,
   "metadata": {},
   "outputs": [],
   "source": [
    "##exportar\n",
    "browser.find_element(By.XPATH, '//*[@id=\"root\"]/div/div/div[2]/div/div/div[2]/div/div[2]/div/div[2]/div[2]/div/div[2]/div/div/div[3]/button/span[1]/span').click()\n",
    "time.sleep(15)\n",
    "browser.find_element(By.XPATH, '/html/body/div[1]/div/div/div[2]/div/div/div[2]/div/div[2]/div/div[2]/div[2]/div/div[4]/div[2]/div/div/div/div/div[1]/div/div/div/div[2]/div[2]/div/div[1]/div[2]/div/div[2]/div[1]/div/button/span[1]/span').click()\n",
    "time.sleep(8)\n",
    "# source = browser.find_element(By.XPATH, '/html/body/div[3]/div[2]/div/div[2]/div/div[2]/div/div/div[1]/div[1]/div[2]/div/div[2]/div/div/div[1]')\n",
    "# action = ActionChains(browser)\n",
    "# action.move_to_element(source).click().perform()\n",
    "# action.send_keys(Keys.DOWN)\n",
    "# action.send_keys(Keys.ENTER)\n",
    "# action.perform()\n",
    "# # WebDriverWait(browser, 10).until(EC.element_to_be_clickable((By.XPATH, \"/html/body/div[3]/div[2]/div/div[2]/div/div[2]/div/div/div[1]/div[2]/div/div/div/div[2]/div/div/div[2]/div/div/div/div/div[1]/div[1]/div[2]/span/span[1]/input\"))).click()\n",
    "# time.sleep(5)\n",
    "browser.find_element(By.XPATH, '/html/body/div[3]/div[2]/div/div[2]/div/div[2]/div/div/div[2]/div/div[2]/div/button/span[1]/span').click()\n",
    "time.sleep(20)\n",
    "browser.find_element(By.XPATH, '/html/body/div[1]/div/div/div[2]/div/div/div[2]/div/div[2]/div/div[2]/div[2]/div/div[4]/div[2]/div/header/div/div[2]/div[4]/button/span[1]/span').click()\n",
    "\n",
    "browser.close()\n",
    "\n",
    "\n"
   ]
  },
  {
   "cell_type": "code",
   "execution_count": null,
   "metadata": {},
   "outputs": [],
   "source": [
    "for i in os.listdir(folder):\n",
    "    if i == 'calificacion_conductores.csv':\n",
    "        os.remove(folder + '/calificacion_conductores.csv')"
   ]
  },
  {
   "cell_type": "code",
   "execution_count": null,
   "metadata": {},
   "outputs": [],
   "source": [
    "downloads_path = str(Path.home() / \"Downloads\")\n",
    "for i in os.listdir(downloads_path):\n",
    "    if i.endswith('.csv'):\n",
    "        path = downloads_path + '/' + i\n",
    "        c_time = os.path.getmtime(path)\n",
    "    # convert creation timestamp into DateTime object\n",
    "        dt_c = datetime.datetime.fromtimestamp(c_time).strftime('%Y-%m-%d')\n",
    "        if (dt_c == datetime.date.today().strftime('%Y-%m-%d')) and ('calificacion_conductores' in i):\n",
    "            new_name = 'calificacion_conductores.csv'\n",
    "            path1 = downloads_path + '/' + new_name\n",
    "            os.rename(path,path1)\n",
    "            move(path1, folder)\n"
   ]
  },
  {
   "cell_type": "code",
   "execution_count": null,
   "metadata": {},
   "outputs": [],
   "source": []
  },
  {
   "cell_type": "code",
   "execution_count": null,
   "metadata": {},
   "outputs": [],
   "source": [
    "path = folder + '/calificacion_conductores.csv'\n",
    "data = pd.read_csv(path, sep=';', header=3)"
   ]
  },
  {
   "cell_type": "code",
   "execution_count": null,
   "metadata": {},
   "outputs": [],
   "source": [
    "data['fecha'] = (date.today() - timedelta(+29)).strftime('%Y-%m')"
   ]
  },
  {
   "cell_type": "code",
   "execution_count": null,
   "metadata": {},
   "outputs": [],
   "source": [
    "##regional y distrito nada en nulo"
   ]
  },
  {
   "cell_type": "code",
   "execution_count": null,
   "metadata": {},
   "outputs": [],
   "source": [
    "km = data[data['Kms recorridos']<50]\n",
    "data = data[data['Kms recorridos']>=50].reset_index(drop=True)"
   ]
  },
  {
   "cell_type": "code",
   "execution_count": null,
   "metadata": {},
   "outputs": [],
   "source": [
    "data['Operación'] = data['Operación'].str.replace(' ','').str.upper().apply(unidecode)"
   ]
  },
  {
   "cell_type": "code",
   "execution_count": null,
   "metadata": {},
   "outputs": [],
   "source": [
    "import pandas as pd\n",
    "# exclu = pd.read_excel(r'C:\\Users\\COsocampo\\Documents\\descargas sap\\exclusiones_gest_cond.xlsx', sheet_name='exclusiones')\n",
    "exclu = pd.read_excel(folder + '\\exclusiones_gest_cond.xlsx', sheet_name='exclusiones')\n"
   ]
  },
  {
   "cell_type": "code",
   "execution_count": null,
   "metadata": {},
   "outputs": [],
   "source": [
    "exclu['EXCLUIR'] = exclu['EXCLUIR'].str.replace(' ','').str.upper()\n"
   ]
  },
  {
   "cell_type": "code",
   "execution_count": null,
   "metadata": {},
   "outputs": [],
   "source": [
    "data['Conductores'] = data['Conductores'].str.replace(' ','').str.upper().apply(unidecode)"
   ]
  },
  {
   "cell_type": "code",
   "execution_count": null,
   "metadata": {},
   "outputs": [],
   "source": [
    "aux = []\n",
    "for j in range(0, len(data)):\n",
    "    if ('ADMINISTRATIVO' in data['Operación'][j]) | ('PUBLICIDAD' in data['Operación'][j]) | ('LOGISTICA' in data['Operación'][j]):\n",
    "      aux.append(j)  \n",
    "\n",
    "data = data.drop(data.index[aux]).reset_index(drop=True)\n"
   ]
  },
  {
   "cell_type": "code",
   "execution_count": null,
   "metadata": {},
   "outputs": [],
   "source": [
    "exclu['EXCLUIR'] = exclu['EXCLUIR'].str.replace(' ','').str.upper().apply(unidecode)"
   ]
  },
  {
   "cell_type": "code",
   "execution_count": null,
   "metadata": {},
   "outputs": [],
   "source": [
    "aux = []\n",
    "for i in exclu['EXCLUIR'].unique():\n",
    "    for j in range(0, len(data)):\n",
    "        if i in data['Operación'][j]:\n",
    "            aux.append(j)  \n",
    "data = data.drop(data.index[aux]).reset_index(drop=True)"
   ]
  },
  {
   "cell_type": "code",
   "execution_count": null,
   "metadata": {},
   "outputs": [],
   "source": [
    "aux = []\n",
    "for i in exclu['EXCLUIR'].unique():\n",
    "    for j in range(0, len(data)):\n",
    "        if i in data['Conductores'][j]:\n",
    "            aux.append(j)  \n",
    "data = data.drop(data.index[aux]).reset_index(drop=True)"
   ]
  },
  {
   "cell_type": "code",
   "execution_count": null,
   "metadata": {},
   "outputs": [],
   "source": [
    "dist = pd.read_excel(folder + '\\exclusiones_gest_cond.xlsx', sheet_name='distrito')"
   ]
  },
  {
   "cell_type": "code",
   "execution_count": null,
   "metadata": {},
   "outputs": [],
   "source": [
    "dist['Operación'] = dist['Operación'].str.replace(' ','').str.upper().apply(unidecode)"
   ]
  },
  {
   "cell_type": "code",
   "execution_count": null,
   "metadata": {},
   "outputs": [],
   "source": [
    "conductores = pd.read_excel(folder + '/ayudantes_gas.xlsx')"
   ]
  },
  {
   "cell_type": "code",
   "execution_count": null,
   "metadata": {},
   "outputs": [],
   "source": [
    "data = pd.merge(data, dist, on='Operación', how='left')"
   ]
  },
  {
   "cell_type": "code",
   "execution_count": null,
   "metadata": {},
   "outputs": [],
   "source": [
    "test = pd.DataFrame()\n",
    "for i in conductores['cedula'].unique():\n",
    "    df = data[data['Cédula'] == i]\n",
    "    data = data[data['Cédula'] != i]\n",
    "    test = pd.concat([test,df], axis=0)"
   ]
  },
  {
   "cell_type": "code",
   "execution_count": null,
   "metadata": {},
   "outputs": [
    {
     "name": "stderr",
     "output_type": "stream",
     "text": [
      "C:\\Users\\COsocampo\\AppData\\Local\\Temp\\ipykernel_18424\\205811067.py:6: SettingWithCopyWarning: \n",
      "A value is trying to be set on a copy of a slice from a DataFrame.\n",
      "Try using .loc[row_indexer,col_indexer] = value instead\n",
      "\n",
      "See the caveats in the documentation: https://pandas.pydata.org/pandas-docs/stable/user_guide/indexing.html#returning-a-view-versus-a-copy\n",
      "  df1['Por zona roja (%)'] = valor\n"
     ]
    }
   ],
   "source": [
    "df2 = pd.DataFrame()\n",
    "for i in test['Regional'].unique():\n",
    "    df = data[data['Regional'] == i]\n",
    "    valor = df['Por zona roja (%)'].mean()\n",
    "    df1 = test[test['Regional'] == i]\n",
    "    df1['Por zona roja (%)'] = valor\n",
    "    df2 = pd.concat([df2,df1], axis=0)\n",
    "\n",
    "    "
   ]
  },
  {
   "cell_type": "code",
   "execution_count": null,
   "metadata": {},
   "outputs": [],
   "source": [
    "#puntaje GPS = 100 - (Excesos velocidad (%) + Aceleraciones bruscas GPS (%) + Frenadas bruscas GPS (%) + Excesos RPM (%) + Excesos ralentí (%) + Por zona roja (%))"
   ]
  },
  {
   "cell_type": "code",
   "execution_count": null,
   "metadata": {},
   "outputs": [],
   "source": [
    "df2['Puntaje GPS'] = 100 - (df2['Excesos velocidad (%)'] + df2['Aceleraciones bruscas GPS (%)'] + df2['Frenadas bruscas GPS (%)'] + \n",
    "                            df2['Excesos RPM (%)'] + df2['Excesos ralentí (%)'] + df2['Por zona roja (%)'])"
   ]
  },
  {
   "cell_type": "code",
   "execution_count": null,
   "metadata": {},
   "outputs": [],
   "source": [
    "data = pd.concat([data,df2], axis=0)"
   ]
  },
  {
   "cell_type": "code",
   "execution_count": null,
   "metadata": {},
   "outputs": [],
   "source": [
    "test = pd.read_excel(folder + '\\gestion_conduccion1.xlsx')"
   ]
  },
  {
   "cell_type": "code",
   "execution_count": null,
   "metadata": {},
   "outputs": [],
   "source": [
    "data = pd.concat([test, data], ignore_index=True)"
   ]
  },
  {
   "cell_type": "code",
   "execution_count": null,
   "metadata": {},
   "outputs": [],
   "source": [
    "data.drop_duplicates(inplace = True)"
   ]
  },
  {
   "cell_type": "code",
   "execution_count": null,
   "metadata": {},
   "outputs": [],
   "source": [
    "# data['Excesos velocidad (% total)'] = 100 - (data['Excesos velocidad (%)']/0.2)\n",
    "# data['Aceleraciones (% total)'] = 100 - (data['Aceleraciones bruscas GPS (%)']/0.2)\n",
    "# data['Frenadas bruscas (% total)'] = 100 - (data['Frenadas bruscas GPS (%)']/0.2)\n",
    "# data['Excesos RPM (% total)'] = 100 - (data['Excesos RPM (%)']/0.1)\n",
    "# data['Excesos ralentí (% total)'] = 100 - (data['Excesos ralentí (%)']/0.15)\n",
    "# data['Zona Verde (% total)'] = 100 - (data['Por zona roja (%)']/0.15)"
   ]
  },
  {
   "cell_type": "code",
   "execution_count": null,
   "metadata": {},
   "outputs": [],
   "source": [
    "data.to_excel(folder + '\\gestion_conduccion1.xlsx', index=False)"
   ]
  }
 ],
 "metadata": {
  "kernelspec": {
   "display_name": "Python 3",
   "language": "python",
   "name": "python3"
  },
  "language_info": {
   "codemirror_mode": {
    "name": "ipython",
    "version": 3
   },
   "file_extension": ".py",
   "mimetype": "text/x-python",
   "name": "python",
   "nbconvert_exporter": "python",
   "pygments_lexer": "ipython3",
   "version": "3.13.2"
  },
  "orig_nbformat": 4,
  "vscode": {
   "interpreter": {
    "hash": "4f723a70b05ffc1c0a8c27462b0c4e44d83ceaf63b1f56c2ac45dfd11260af9e"
   }
  }
 },
 "nbformat": 4,
 "nbformat_minor": 2
}
